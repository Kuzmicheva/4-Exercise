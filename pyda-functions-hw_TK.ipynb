{
 "cells": [
  {
   "cell_type": "markdown",
   "metadata": {},
   "source": [
    "## Задание 1"
   ]
  },
  {
   "cell_type": "markdown",
   "metadata": {},
   "source": [
    "Дан список вида:"
   ]
  },
  {
   "cell_type": "code",
   "execution_count": 1,
   "metadata": {},
   "outputs": [],
   "source": [
    "data = [\n",
    "    [13, 25, 23, 34],\n",
    "    [45, 32, 44, 47],\n",
    "    [12, 33, 23, 95],\n",
    "    [13, 53, 34, 35]\n",
    "]"
   ]
  },
  {
   "cell_type": "markdown",
   "metadata": {},
   "source": [
    "Напишите функцию, которая возвращает сумму элементов на диагонали. Т. е. 13+32+23+35.  \n",
    "Список может быть любой длины, но всегда является \"квадратным\" (количество элементов во вложенных списках равно их количеству)."
   ]
  },
  {
   "cell_type": "code",
   "execution_count": 2,
   "metadata": {},
   "outputs": [
    {
     "name": "stdout",
     "output_type": "stream",
     "text": [
      "Cумма элементов на диагонали равна 103\n"
     ]
    }
   ],
   "source": [
    "def square_check(data):\n",
    "    for st in data:\n",
    "        if len(st) != len(data):\n",
    "            return False\n",
    "    return True \n",
    "\n",
    "def diagonal_print(data):\n",
    "    diagonal_list =[]\n",
    "    i = 0\n",
    "    if square_check(data) == False:\n",
    "        return print('Список не является \"квадратным\" (количество элементов во вложенных списках не равно их количеству)!')\n",
    "    else: \n",
    "        for stroka in data:\n",
    "            diagonal_list.append(stroka[i])\n",
    "            i += 1  \n",
    "    return print (f\"Cумма элементов на диагонали равна {sum(diagonal_list)}\")\n",
    "\n",
    "diagonal_print(data)"
   ]
  },
  {
   "cell_type": "markdown",
   "metadata": {},
   "source": [
    "## Задание 2"
   ]
  },
  {
   "cell_type": "markdown",
   "metadata": {},
   "source": [
    "Напишите функцию, возвращающую сумму первых n чисел Фибоначчи (для этого вам может понадобится ознакомиться с рекурсией)."
   ]
  },
  {
   "cell_type": "code",
   "execution_count": 3,
   "metadata": {},
   "outputs": [
    {
     "name": "stdout",
     "output_type": "stream",
     "text": [
      "Введите число, от которого надо вернуть сумму первых n чисел Фибоначчи: 6\n",
      "Сумма первых 6 чисел Фибоначчи равана: 12\n"
     ]
    }
   ],
   "source": [
    "def made_fib_set(n):\n",
    "    while n != 0:\n",
    "        fib_set.append(fib(n))\n",
    "        n -=1\n",
    "        \n",
    "def fib(n):\n",
    "    if n == 1:\n",
    "        return 0\n",
    "    if n == 2:\n",
    "        return 1\n",
    "    return fib(n - 1) + fib(n - 2)\n",
    "\n",
    "fib_set  = []\n",
    "n = int(input('Введите число, от которого надо вернуть сумму первых n чисел Фибоначчи: '))\n",
    "k = n\n",
    "made_fib_set(n)\n",
    "print (f\"Сумма первых {k} чисел Фибоначчи равана: {sum(fib_set)}\")"
   ]
  },
  {
   "cell_type": "markdown",
   "metadata": {},
   "source": [
    "## Задание 3\n"
   ]
  },
  {
   "cell_type": "markdown",
   "metadata": {},
   "source": [
    "Напишите функцию, преобразующую произвольный список вида ['2018-01-01', 'yandex', 'cpc', 100] (он может быть любой длины) в словарь {'2018-01-01': {'yandex': {'cpc': 100}}}"
   ]
  },
  {
   "cell_type": "code",
   "execution_count": 4,
   "metadata": {},
   "outputs": [
    {
     "name": "stdout",
     "output_type": "stream",
     "text": [
      "['2018-01-01', 'yandex', 'cpc', 100]\n",
      "{}\n"
     ]
    }
   ],
   "source": [
    "    r_set =  ['2018-01-01', 'yandex', 'cpc', 100]\n",
    "    dicti = {}\n",
    "    print(r_set)\n",
    "    print(dicti)"
   ]
  },
  {
   "cell_type": "code",
   "execution_count": 5,
   "metadata": {},
   "outputs": [
    {
     "name": "stdout",
     "output_type": "stream",
     "text": [
      "{'2018-01-01': {'yandex': ['cpc', 100]}}\n"
     ]
    }
   ],
   "source": [
    "def d(n):\n",
    "    while len(n) > 2:\n",
    "        n[0], *others = n\n",
    "        if len(dicti) == 0:\n",
    "            dicti.update({n[0]:others})\n",
    "        else:\n",
    "            dicti[key] = dict.fromkeys([n[0]], others)\n",
    "        key = n[0]\n",
    "        n.remove(n[0])\n",
    "    return print(dicti)\n",
    "d(r_set)"
   ]
  },
  {
   "cell_type": "markdown",
   "metadata": {},
   "source": [
    "## Задание 4"
   ]
  },
  {
   "cell_type": "markdown",
   "metadata": {},
   "source": [
    "Вы работаете секретарем и вам постоянно приходят различные документы. Вы должны быть очень внимательны, чтобы не потерять ни один документ. Каталог документов хранится в следующем виде:"
   ]
  },
  {
   "cell_type": "code",
   "execution_count": 6,
   "metadata": {},
   "outputs": [],
   "source": [
    "documents = [\n",
    "    {'type': 'passport', 'number': '2207 876234', 'name': 'Василий Гупкин'},\n",
    "    {'type': 'invoice', 'number': '11-2', 'name': 'Геннадий Покемонов'},\n",
    "    {'type': 'insurance', 'number': '10006', 'name': 'Аристарх Павлов'}\n",
    "]"
   ]
  },
  {
   "cell_type": "markdown",
   "metadata": {},
   "source": [
    "Перечень полок, на которых находятся документы хранится в следующем виде:"
   ]
  },
  {
   "cell_type": "code",
   "execution_count": 7,
   "metadata": {},
   "outputs": [],
   "source": [
    "directories = {\n",
    "    '1': ['2207 876234', '11-2', '5455 028765'],\n",
    "    '2': ['10006', '5400 028765', '5455 002299'],\n",
    "    '3': []\n",
    "}"
   ]
  },
  {
   "cell_type": "markdown",
   "metadata": {},
   "source": [
    "Необходимо реализовать пользовательские команды (внимание! это не название функций, которые должны быть выразительными, а команды, которые вводит пользователь, чтобы получить необходимый результат):\n",
    "  \n",
    "- p – people – команда, которая спросит номер документа и выведет имя человека, которому он принадлежит;  \n",
    "- s – shelf – команда, которая спросит номер документа и выведет номер полки, на которой он находится  \n",
    "Правильно обработайте ситуацию, когда пользователь будет вводить несуществующий документ.\n",
    "- l – list – команда, которая выведет список всех документов в формате   \n",
    "**passport \"2207 876234\" \"Василий Гупкин\"**  \n",
    "- as – add shelf – команда, которая спросит номер новой полки и добавит ее в перечень\n",
    "- d – delete – команда, которая спросит номер документа и удалит его из каталога и из перечня полок. Предусмотрите сценарий, когда пользователь вводит несуществующий документ;  \n",
    "- m – move – команда, которая спросит номер документа и целевую полку и переместит его с текущей полки на целевую. Корректно обработайте кейсы, когда пользователь пытается переместить несуществующий документ или переместить документ на несуществующую полку;  \n",
    "- a – add – команда, которая добавит новый документ в каталог и в перечень полок, спросив его номер, тип, имя владельца и номер полки, на котором он будет храниться."
   ]
  },
  {
   "cell_type": "code",
   "execution_count": null,
   "metadata": {},
   "outputs": [
    {
     "name": "stdout",
     "output_type": "stream",
     "text": [
      "Введите команду для поиска или \"q\" для вывода списка команд: q\n",
      "p – people\n",
      "s – shelf\n",
      "l – list\n",
      "as – add shelf\n",
      "d – delete\n",
      "m – move\n",
      "a – add\n"
     ]
    }
   ],
   "source": [
    "def choice(comm):\n",
    "    if comm == 'q':\n",
    "        print(\"p – people\\ns – shelf\\nl – list\\nas – add shelf\\nd – delete\\nm – move\\na – add\")\n",
    "        comm = (input('Введите команду для поиска или \"q\" для вывода списка команд: '))\n",
    "        choice(comm)\n",
    "    elif comm == 'p':\n",
    "        print('people')\n",
    "        num_doc = str(input('Введите номер документа: '))\n",
    "        name(num_doc)\n",
    "    elif comm == 's':\n",
    "        print('shelf')\n",
    "        num_doc = str(input('Введите номер документа: '))\n",
    "        shelf(num_doc)\n",
    "    elif comm == 'l':\n",
    "        print('list')\n",
    "        list_doc()\n",
    "    elif comm == 'as':\n",
    "        print('add shelf')\n",
    "        print(\"Сейчас существуют полки с номерами:\" )\n",
    "        for i in directories.keys():\n",
    "            print(i)\n",
    "        num_new_shelf = str(input('Введите номер новой полки: '))\n",
    "        new_shelf(num_new_shelf)\n",
    "    elif comm == 'd':\n",
    "        print('delete')\n",
    "        num_doc = str(input('Введите номер документа, который хотите удалить: '))\n",
    "        doc_del(num_doc)\n",
    "    elif comm == 'm':\n",
    "        print('move')\n",
    "        num_doc = str(input('Введите номер документа, который хотите переместить: '))\n",
    "        num_shelf = str(input('Введите номер целевой полки: '))\n",
    "        move_doc(num_doc, num_shelf)\n",
    "    elif comm == 'a':\n",
    "        print('add')\n",
    "        type_doc = str(input('Введите тип нового документа: '))\n",
    "        number_doc = str(input('Введите номер нового документа: '))\n",
    "        name_doc = str(input('Введите имя владельца нового документа: '))\n",
    "        num_shelf = str(input('Введите номер целевой полки: '))\n",
    "        add_doc(type_doc, number_doc, name_doc, num_shelf)    \n",
    "    else:\n",
    "        print(\"Такой команды не существует!\\nПопробуйте ввести другую команду\")\n",
    "        comm = (input('Введите команду для поиска или \"q\" для вывода списка команд: '))\n",
    "        choice(comm)\n",
    "        \n",
    "def name(num_doc):\n",
    "    n = 0\n",
    "    for i in documents:\n",
    "        if num_doc in i.values():\n",
    "            return print(i.get('name'))\n",
    "            n = 1\n",
    "    if n != 1:\n",
    "        print(\"Данный номер не соответсвует ни одному человек в базе\")\n",
    "        num_doc = str(input('Введите номер документа: '))\n",
    "        name(num_doc)\n",
    "\n",
    "def shelf(num_doc):\n",
    "    n = 0\n",
    "    for i in directories.items():\n",
    "        for j in i:\n",
    "            for k in j:\n",
    "                if k == num_doc:\n",
    "                    print(f\"Документ {num_doc} лежит на полке {i[0]}\")\n",
    "                    n = 1\n",
    "    if n !=1:\n",
    "        print(\"Данный номер не найден ни на одной полке\")\n",
    "\n",
    "def list_doc():\n",
    "    for i in documents:\n",
    "        print(f\"** {i.get('type')} \\\"{i.get('number')}\\\" \\\"{i.get('name')}\\\" **\")\n",
    "    \n",
    "def new_shelf(num_new_shelf):\n",
    "    n = 0\n",
    "    for i in directories.keys():\n",
    "        if num_new_shelf == i:\n",
    "            num_new_shelf = str(input('Такая полка существует! Введите номер новой полки: '))\n",
    "            new_shelf(num_new_shelf)\n",
    "            n = 1\n",
    "    if n != 1:\n",
    "        directories.update({num_new_shelf:'none'})\n",
    "        print(f\" Полка с номером {num_new_shelf} создана.\")\n",
    "        print(\"Сейчас существуют полки с номерами:\" )\n",
    "        for i in directories.keys():\n",
    "            print(i)\n",
    "\n",
    "def doc_del(num_doc):\n",
    "    n = 0\n",
    "    for i in documents:\n",
    "        if i['number'] == num_doc:\n",
    "            n = 1\n",
    "    if n != 1:\n",
    "        print('Такого документа не существует!')\n",
    "        num_doc = str(input('Введите номер документа, который хотите удалить: '))\n",
    "        doc_del(num_doc)\n",
    "    c = 0\n",
    "    for i in documents:\n",
    "        if i['number'] ==  num_doc:\n",
    "            del documents[c]\n",
    "        else:\n",
    "            c += 1\n",
    "    for i in directories.values():\n",
    "        for j in i:\n",
    "            if j == num_doc:\n",
    "                i.remove(num_doc)\n",
    "                return print(f\"Документ с номером {num_doc} удален\")\n",
    "\n",
    "def move_doc(num_doc, num_shelf):\n",
    "    n = 0\n",
    "    for i in documents:\n",
    "        if i['number'] == num_doc:\n",
    "            n = 1\n",
    "    if n != 1:\n",
    "        print('Такого документа не существует!')\n",
    "        num_doc = str(input('Введите номер документа, который хотите удалить: '))\n",
    "        move_doc(num_doc, num_shelf)\n",
    "    for i in directories.values():\n",
    "        for j in i:\n",
    "            if j == num_doc:\n",
    "                i.remove(num_doc)\n",
    "#     num_shelf = str(input('Введите номер целевой полки: '))\n",
    "    directories[num_shelf].append(num_doc)\n",
    "    return print(f\"Документ {num_doc} переложен на полку {num_shelf} документы на полке {directories[num_shelf]}\")\n",
    "\n",
    "def add_doc(type_doc, number_doc, name_doc, num_shelf):\n",
    "    dict_doc = {}\n",
    "    dict_doc.update({'type': type_doc, 'number': number_doc, 'name': name_doc})\n",
    "    documents.append(dict_doc)\n",
    "    directories[num_shelf].append(number_doc)\n",
    "    return print('Новый документ добавлен в каталог и в перечень полок')\n",
    "        \n",
    "comm = (input('Введите команду для поиска или \"q\" для вывода списка команд: '))\n",
    "choice(comm)"
   ]
  },
  {
   "cell_type": "code",
   "execution_count": null,
   "metadata": {},
   "outputs": [],
   "source": []
  }
 ],
 "metadata": {
  "kernelspec": {
   "display_name": "Python 3",
   "language": "python",
   "name": "python3"
  },
  "language_info": {
   "codemirror_mode": {
    "name": "ipython",
    "version": 3
   },
   "file_extension": ".py",
   "mimetype": "text/x-python",
   "name": "python",
   "nbconvert_exporter": "python",
   "pygments_lexer": "ipython3",
   "version": "3.7.4"
  }
 },
 "nbformat": 4,
 "nbformat_minor": 2
}
